{
 "cells": [
  {
   "cell_type": "code",
   "execution_count": null,
   "id": "576fbe15",
   "metadata": {},
   "outputs": [],
   "source": [
    "import pandas as pd\n",
    "import numpy as np\n",
    "import matplotlib.pyplot as plt\n",
    "import seaborn as sns\n",
    "import re\n",
    "\n",
    "%matplotlib inline\n",
    "pd.set_option('display.max_columns', None)"
   ]
  },
  {
   "cell_type": "code",
   "execution_count": null,
   "id": "777a7627",
   "metadata": {
    "scrolled": true
   },
   "outputs": [],
   "source": [
    "#https://www.statsamerica.org/downloads/default.aspx  -population stats - u.s., state, county populaton\n",
    "pop_data = pd.read_csv('data/population_data/Population_estimates_US_States_Counties.csv')"
   ]
  },
  {
   "cell_type": "code",
   "execution_count": null,
   "id": "32fb2267-4edd-4b2d-a18f-210fc0de3010",
   "metadata": {},
   "outputs": [],
   "source": [
    "pop_data.head(3)"
   ]
  },
  {
   "cell_type": "code",
   "execution_count": null,
   "id": "cb18f4d9-df61-4c65-a7bd-46a587400609",
   "metadata": {},
   "outputs": [],
   "source": [
    "pop_data.info()"
   ]
  },
  {
   "cell_type": "code",
   "execution_count": null,
   "id": "595ece6c",
   "metadata": {
    "scrolled": true
   },
   "outputs": [],
   "source": [
    "pop_data_2019 = pop_data[pop_data['Year']==2019]\n",
    "pop_data_2019"
   ]
  },
  {
   "cell_type": "code",
   "execution_count": null,
   "id": "4a4c1524",
   "metadata": {},
   "outputs": [],
   "source": [
    "#https://www.statsamerica.org/downloads/default.aspx  -population stats - u.s., state, county population change\n",
    "pop_data2 = pd.read_csv('data/population_data/Components of Population Change - US, States, Counties.csv')"
   ]
  },
  {
   "cell_type": "code",
   "execution_count": null,
   "id": "e15d4b65",
   "metadata": {},
   "outputs": [],
   "source": [
    "pop_data2.head(3)"
   ]
  },
  {
   "cell_type": "code",
   "execution_count": null,
   "id": "736501a5-8d83-4d8f-afef-ad3d3adbf0ab",
   "metadata": {},
   "outputs": [],
   "source": [
    "pop_data2.info()"
   ]
  },
  {
   "cell_type": "code",
   "execution_count": null,
   "id": "739365a7-8403-48fe-acf6-da1fede8caaa",
   "metadata": {
    "scrolled": true
   },
   "outputs": [],
   "source": [
    "pop_data2_2019 = pop_data2[pop_data2['Year']==2019]\n",
    "pop_data2_2019"
   ]
  },
  {
   "cell_type": "code",
   "execution_count": null,
   "id": "52fe343f",
   "metadata": {},
   "outputs": [],
   "source": [
    "#https://www.statsamerica.org/downloads/default.aspx  -population stats - u.s., state, county population by age\n",
    "pop_data3 = pd.read_csv('data/population_data/Population by Age and Sex - US, States, Counties.csv')"
   ]
  },
  {
   "cell_type": "code",
   "execution_count": null,
   "id": "a608bab3",
   "metadata": {},
   "outputs": [],
   "source": [
    "pop_data3.head(3)"
   ]
  },
  {
   "cell_type": "code",
   "execution_count": null,
   "id": "098775e7-d58a-4eb3-b495-0248888d8a71",
   "metadata": {
    "scrolled": true
   },
   "outputs": [],
   "source": [
    "pop_data3.info()"
   ]
  },
  {
   "cell_type": "code",
   "execution_count": null,
   "id": "f7edc7d5-81bf-4e03-91be-0d1b75443c99",
   "metadata": {
    "scrolled": true
   },
   "outputs": [],
   "source": [
    "pop_data3_2019 = pop_data3[pop_data3['Year']==2019]\n",
    "pop_data3_2019"
   ]
  },
  {
   "cell_type": "code",
   "execution_count": null,
   "id": "8c41c850",
   "metadata": {},
   "outputs": [],
   "source": [
    "#https://www.statsamerica.org/downloads/default.aspx - u.s. state, county employee wage info\n",
    "pop_data4 = pd.read_csv('data/wage_data/CEW - US, States, Counties - Total Ownership.csv')"
   ]
  },
  {
   "cell_type": "code",
   "execution_count": null,
   "id": "3e3c9a6f",
   "metadata": {
    "scrolled": true
   },
   "outputs": [],
   "source": [
    "pop_data4.head(3)"
   ]
  },
  {
   "cell_type": "code",
   "execution_count": null,
   "id": "1b0083b2-ba26-4124-aa5d-a44d120d70c5",
   "metadata": {
    "scrolled": true
   },
   "outputs": [],
   "source": [
    "pop_data4.info()"
   ]
  },
  {
   "cell_type": "code",
   "execution_count": null,
   "id": "2566fdaa-564b-4879-a94b-e301005233cf",
   "metadata": {
    "scrolled": true
   },
   "outputs": [],
   "source": [
    "pop_data4_2019 = pop_data4[pop_data4['Year']==2019]\n",
    "pop_data4_2019"
   ]
  },
  {
   "cell_type": "code",
   "execution_count": null,
   "id": "4c123052-0cd4-420e-b93e-ca5b3952fe93",
   "metadata": {
    "scrolled": true
   },
   "outputs": [],
   "source": [
    "pop_data4_2019_totals = pop_data4_2019[pop_data4_2019['NAICS Description']=='Total']\n",
    "pop_data4_2019_totals"
   ]
  },
  {
   "cell_type": "code",
   "execution_count": null,
   "id": "c4ddfb11-a344-432d-83ce-a5c45d105d76",
   "metadata": {},
   "outputs": [],
   "source": [
    "pop_2019_merged = pd.merge(pop_data_2019, pop_data2_2019, left_on = ['IBRC_Geo_ID', 'Statefips', 'Countyfips', 'Description', 'Year'], \n",
    "                        right_on = ['IBRC_Geo_ID', 'Statefips', 'Countyfips', 'Description', 'Year'], how = 'inner')"
   ]
  },
  {
   "cell_type": "code",
   "execution_count": null,
   "id": "bb82a044-f68b-44ea-b45d-7423c0838452",
   "metadata": {},
   "outputs": [],
   "source": [
    "pop_2019_merged2 = pd.merge(pop_2019_merged, pop_data3_2019, left_on = ['IBRC_Geo_ID', 'Statefips', 'Countyfips', 'Description', 'Year'], \n",
    "                        right_on = ['IBRC_Geo_ID', 'Statefips', 'Countyfips', 'Description', 'Year'], how = 'inner')"
   ]
  },
  {
   "cell_type": "code",
   "execution_count": null,
   "id": "a7553f8a-f3d2-498b-a4ba-335fe02ef096",
   "metadata": {},
   "outputs": [],
   "source": [
    "pop_2019_merged2"
   ]
  },
  {
   "cell_type": "code",
   "execution_count": null,
   "id": "aecf4c2f-7078-4b81-a4e8-633c972a880d",
   "metadata": {},
   "outputs": [],
   "source": [
    "all_pop_data = pd.merge(pop_2019_merged2, pop_data4_2019_totals, left_on = ['IBRC_Geo_ID', 'Statefips', 'Countyfips', 'Description', 'Year'], \n",
    "                        right_on = ['IBRC_GEO_ID', 'Statefips', 'Countyfips', 'Description', 'Year'], how = 'inner')"
   ]
  },
  {
   "cell_type": "code",
   "execution_count": null,
   "id": "cd523a77-a24a-414d-a38c-b986400500c9",
   "metadata": {},
   "outputs": [],
   "source": [
    "all_pop_data"
   ]
  },
  {
   "cell_type": "markdown",
   "id": "8866be2c",
   "metadata": {},
   "source": [
    "#https://taxfoundation.org/data/all/state/sales-tax-rates-2019/\n",
    "state and local sales tax rates for 2019- requires webscrapping"
   ]
  },
  {
   "cell_type": "markdown",
   "id": "a64e0276",
   "metadata": {},
   "source": [
    "#https://taxfoundation.org/data/all/state/state-individual-income-tax-rates-brackets-2019/\n",
    "2019 state income taxes - copied to excel file as  data/tax_data/2019_state_income_tax_rates"
   ]
  },
  {
   "cell_type": "markdown",
   "id": "b9a11078",
   "metadata": {},
   "source": [
    "#https://www.irs.gov/statistics/soi-tax-stats-individual-income-tax-statistics-2019-zip-code-data-soi\n",
    "individual income tax return data by state data/tax_data/2019_state_income_tax_returns"
   ]
  },
  {
   "cell_type": "markdown",
   "id": "fdf70370",
   "metadata": {},
   "source": [
    "#https://www.census.gov/data/datasets/2019/econ/local/public-use-datasets.html\n",
    "2019 state finance information revenue / expenditure data/tax_data/2019_state_finance_data"
   ]
  },
  {
   "cell_type": "markdown",
   "id": "dcf29395",
   "metadata": {},
   "source": [
    "#https://www.census.gov/data/tables/2019/econ/qtax/historical.html\n",
    "2019 state tax revenue, quarterly breakdown data/tax_data/2019_state_tax_revenue"
   ]
  }
 ],
 "metadata": {
  "kernelspec": {
   "display_name": "Python 3 (ipykernel)",
   "language": "python",
   "name": "python3"
  },
  "language_info": {
   "codemirror_mode": {
    "name": "ipython",
    "version": 3
   },
   "file_extension": ".py",
   "mimetype": "text/x-python",
   "name": "python",
   "nbconvert_exporter": "python",
   "pygments_lexer": "ipython3",
   "version": "3.11.5"
  }
 },
 "nbformat": 4,
 "nbformat_minor": 5
}
