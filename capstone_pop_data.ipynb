{
 "cells": [
  {
   "cell_type": "code",
   "execution_count": null,
   "id": "576fbe15",
   "metadata": {},
   "outputs": [],
   "source": [
    "import pandas as pd\n",
    "import numpy as np\n",
    "import matplotlib.pyplot as plt\n",
    "import seaborn as sns\n",
    "import re\n",
    "\n",
    "%matplotlib inline\n",
    "pd.set_option('display.max_columns', None)"
   ]
  },
  {
   "cell_type": "code",
   "execution_count": null,
   "id": "777a7627",
   "metadata": {
    "scrolled": true
   },
   "outputs": [],
   "source": [
    "#https://www.statsamerica.org/downloads/default.aspx         -population stats - u.s., state, county populaton\n",
    "pop_data = pd.read_csv('data/population_data/Population_estimates_US_States_Counties.csv')"
   ]
  },
  {
   "cell_type": "code",
   "execution_count": null,
   "id": "32fb2267-4edd-4b2d-a18f-210fc0de3010",
   "metadata": {},
   "outputs": [],
   "source": [
    "pop_data.head(3)"
   ]
  },
  {
   "cell_type": "code",
   "execution_count": null,
   "id": "cb18f4d9-df61-4c65-a7bd-46a587400609",
   "metadata": {},
   "outputs": [],
   "source": [
    "pop_data.info()"
   ]
  },
  {
   "cell_type": "code",
   "execution_count": null,
   "id": "595ece6c",
   "metadata": {
    "scrolled": true
   },
   "outputs": [],
   "source": [
    "pop_data_2019 = pop_data[pop_data['Year']==2019]\n",
    "pop_data_2019"
   ]
  },
  {
   "cell_type": "code",
   "execution_count": null,
   "id": "4a4c1524",
   "metadata": {},
   "outputs": [],
   "source": [
    "#https://www.statsamerica.org/downloads/default.aspx           -population stats - u.s., state, county population change\n",
    "pop_data2 = pd.read_csv('data/population_data/Components of Population Change - US, States, Counties.csv')"
   ]
  },
  {
   "cell_type": "code",
   "execution_count": null,
   "id": "e15d4b65",
   "metadata": {},
   "outputs": [],
   "source": [
    "pop_data2.head(3)"
   ]
  },
  {
   "cell_type": "code",
   "execution_count": null,
   "id": "736501a5-8d83-4d8f-afef-ad3d3adbf0ab",
   "metadata": {},
   "outputs": [],
   "source": [
    "pop_data2.info()"
   ]
  },
  {
   "cell_type": "code",
   "execution_count": null,
   "id": "739365a7-8403-48fe-acf6-da1fede8caaa",
   "metadata": {
    "scrolled": true
   },
   "outputs": [],
   "source": [
    "pop_data2_2019 = pop_data2[pop_data2['Year']==2019]\n",
    "pop_data2_2019"
   ]
  },
  {
   "cell_type": "code",
   "execution_count": null,
   "id": "52fe343f",
   "metadata": {},
   "outputs": [],
   "source": [
    "#https://www.statsamerica.org/downloads/default.aspx         -population stats - u.s., state, county population by age\n",
    "pop_data3 = pd.read_csv('data/population_data/Population by Age and Sex - US, States, Counties.csv')"
   ]
  },
  {
   "cell_type": "code",
   "execution_count": null,
   "id": "a608bab3",
   "metadata": {},
   "outputs": [],
   "source": [
    "pop_data3.head(3)"
   ]
  },
  {
   "cell_type": "code",
   "execution_count": null,
   "id": "098775e7-d58a-4eb3-b495-0248888d8a71",
   "metadata": {
    "scrolled": true
   },
   "outputs": [],
   "source": [
    "pop_data3.info()"
   ]
  },
  {
   "cell_type": "code",
   "execution_count": null,
   "id": "f7edc7d5-81bf-4e03-91be-0d1b75443c99",
   "metadata": {
    "scrolled": true
   },
   "outputs": [],
   "source": [
    "pop_data3_2019 = pop_data3[pop_data3['Year']==2019]\n",
    "pop_data3_2019"
   ]
  },
  {
   "cell_type": "code",
   "execution_count": null,
   "id": "8c41c850",
   "metadata": {},
   "outputs": [],
   "source": [
    "#https://www.statsamerica.org/downloads/default.aspx       - u.s. state, county employee wage info\n",
    "pop_data4 = pd.read_csv('data/population_data/CEW - US, States, Counties - Total Ownership.csv')"
   ]
  },
  {
   "cell_type": "code",
   "execution_count": null,
   "id": "3e3c9a6f",
   "metadata": {
    "scrolled": true
   },
   "outputs": [],
   "source": [
    "pop_data4.head(3)"
   ]
  },
  {
   "cell_type": "code",
   "execution_count": null,
   "id": "1b0083b2-ba26-4124-aa5d-a44d120d70c5",
   "metadata": {
    "scrolled": true
   },
   "outputs": [],
   "source": [
    "pop_data4.info()"
   ]
  },
  {
   "cell_type": "code",
   "execution_count": null,
   "id": "2566fdaa-564b-4879-a94b-e301005233cf",
   "metadata": {
    "scrolled": true
   },
   "outputs": [],
   "source": [
    "pop_data4_2019 = pop_data4[pop_data4['Year']==2019]\n",
    "pop_data4_2019"
   ]
  },
  {
   "cell_type": "code",
   "execution_count": null,
   "id": "4c123052-0cd4-420e-b93e-ca5b3952fe93",
   "metadata": {
    "scrolled": true
   },
   "outputs": [],
   "source": [
    "pop_data4_2019_totals = pop_data4_2019[pop_data4_2019['NAICS Description']=='Total']\n",
    "pop_data4_2019_totals"
   ]
  },
  {
   "cell_type": "code",
   "execution_count": null,
   "id": "aa59b69b-80a0-4059-88c1-71b593ff6343",
   "metadata": {},
   "outputs": [],
   "source": [
    "#https://ghdx.healthdata.org/record/ihme-data/united-states-life-expectancy-by-county-race-ethnicity-2000-2019\n",
    "pop_data5 = pd.read_csv('data/population_data/IHME_USA_LE_COUNTY_RACE_ETHN_2000_2019_LT_2019_BOTH_Y2022M06D16.csv')"
   ]
  },
  {
   "cell_type": "code",
   "execution_count": null,
   "id": "cbf589df-a16b-47dd-8fc9-f7b23be40ed1",
   "metadata": {},
   "outputs": [],
   "source": [
    "pop_data5.head(3)"
   ]
  },
  {
   "cell_type": "code",
   "execution_count": null,
   "id": "219db000-43df-4063-b099-fcdbf436c21b",
   "metadata": {
    "scrolled": true
   },
   "outputs": [],
   "source": [
    "pop_data5.info()"
   ]
  },
  {
   "cell_type": "code",
   "execution_count": null,
   "id": "504fcb56-9812-46af-ab2a-86cbddec93c7",
   "metadata": {
    "scrolled": true
   },
   "outputs": [],
   "source": [
    "#only finding totals which is cmbined totals for all races\n",
    "pop_data5T = pop_data5[pop_data5['race_name']=='Total']"
   ]
  },
  {
   "cell_type": "code",
   "execution_count": null,
   "id": "0e84e594-5819-4ccf-a05d-87c7eba29c6c",
   "metadata": {
    "scrolled": true
   },
   "outputs": [],
   "source": [
    "#looking up life expectancy for <1 which is essentially life expectency at birth\n",
    "pop_data5T1 = pop_data5T[pop_data5T['age_name']=='<1 year']"
   ]
  },
  {
   "cell_type": "code",
   "execution_count": null,
   "id": "ef4eda50-11d6-4195-99cb-0f145fec8b45",
   "metadata": {},
   "outputs": [],
   "source": [
    "# Split the fips column to create Statefips and Countyfips, replacing empty strings with 0\n",
    "pop_data5T1['fips'] = pop_data5T1['fips'].astype(str)\n",
    "\n",
    "pop_data5T1['Statefips'] = pop_data5T1['fips'].apply(lambda x: str(int(x.split('.')[0][:-3])) if '.' in x and x.split('.')[0][:-3] else '0')\n",
    "pop_data5T1['Countyfips'] = pop_data5T1['fips'].apply(lambda x: str(int(x.split('.')[0][-3:])) if '.' in x and x.split('.')[0][-3:] else '0')"
   ]
  },
  {
   "cell_type": "code",
   "execution_count": null,
   "id": "dae9d5c4-1180-4a53-a6bd-e5cc8ab2c117",
   "metadata": {},
   "outputs": [],
   "source": [
    "#findind all cases where statefips=0 and county fips is != 0\n",
    "mask = (pop_data5T1['Statefips'] == '0') & (pop_data5T1['Countyfips'] != '0')\n",
    "\n",
    "# Update 'Statefips' with values from 'Countyfips' where the condition is true\n",
    "pop_data5T1.loc[mask, 'Statefips'] = pop_data5T1.loc[mask, 'Countyfips']\n",
    "\n",
    "# Update 'Countyfips' to '0' where the condition is true\n",
    "pop_data5T1.loc[mask, 'Countyfips'] = '0'"
   ]
  },
  {
   "cell_type": "code",
   "execution_count": null,
   "id": "36baf395-1c7d-43a4-9d09-459943698f69",
   "metadata": {},
   "outputs": [],
   "source": [
    "#convert both columns to int for merge\n",
    "pop_data5T1['Statefips'] = pop_data5T1['Statefips'].astype(int)\n",
    "pop_data5T1['Countyfips'] = pop_data5T1['Countyfips'].astype(int)"
   ]
  },
  {
   "cell_type": "code",
   "execution_count": null,
   "id": "c4ddfb11-a344-432d-83ce-a5c45d105d76",
   "metadata": {},
   "outputs": [],
   "source": [
    "#merge 1\n",
    "pop_2019_merged = pd.merge(pop_data_2019, pop_data2_2019, left_on = ['IBRC_Geo_ID', 'Statefips', 'Countyfips',  'Description', 'Year'], \n",
    "                        right_on = ['IBRC_Geo_ID', 'Statefips', 'Countyfips',  'Description', 'Year'], how = 'inner')"
   ]
  },
  {
   "cell_type": "code",
   "execution_count": null,
   "id": "bb82a044-f68b-44ea-b45d-7423c0838452",
   "metadata": {},
   "outputs": [],
   "source": [
    "#merge 2\n",
    "pop_2019_merged2 = pd.merge(pop_2019_merged, pop_data3_2019, left_on = ['IBRC_Geo_ID', 'Statefips', 'Countyfips', 'Description', 'Year'], \n",
    "                        right_on = ['IBRC_Geo_ID', 'Statefips', 'Countyfips', 'Description', 'Year'], how = 'inner')"
   ]
  },
  {
   "cell_type": "code",
   "execution_count": null,
   "id": "aecf4c2f-7078-4b81-a4e8-633c972a880d",
   "metadata": {},
   "outputs": [],
   "source": [
    "#merge 3\n",
    "pop_2019_merged3 = pd.merge(pop_2019_merged2, pop_data4_2019_totals, left_on = [ 'Description', 'Year'], \n",
    "                        right_on = ['Description', 'Year'], how = 'inner')"
   ]
  },
  {
   "cell_type": "code",
   "execution_count": null,
   "id": "03c4998b-e7e6-4b1f-9cd3-1d03ddb10569",
   "metadata": {
    "scrolled": true
   },
   "outputs": [],
   "source": [
    "#merge 4\n",
    "pop_all_data = pd.merge(pop_2019_merged3, pop_data5T1, left_on = [ 'Statefips_x', 'Countyfips_x'], \n",
    "                        right_on = ['Statefips', 'Countyfips'], how = 'inner')"
   ]
  },
  {
   "cell_type": "code",
   "execution_count": null,
   "id": "a26acea1-3397-4d2b-830f-22412e6c5ac4",
   "metadata": {},
   "outputs": [],
   "source": [
    "pop_all_data.head(3)"
   ]
  },
  {
   "cell_type": "code",
   "execution_count": null,
   "id": "e05dbbaa-d446-4950-af2f-5aece3a06c0e",
   "metadata": {},
   "outputs": [],
   "source": [
    "pop_all_data = pop_all_data.drop(columns = ['Statefips_x',\t'Countyfips_x', 'Count or Estimate', 'Residual', 'IBRC_GEO_ID',\t'Statefips_y', 'Countyfips_y', \n",
    "                             'Ownership Code', 'Ownership Code Description', 'NAICS Code', 'NAICS Description', 'Disclosure', 'Summary Level',\n",
    "                             'measure_id', 'measure_name', 'location_id', 'location_name', 'fips', 'race_id', 'race_name', 'sex_id', 'sex_name',\n",
    "                             'age_group_id', 'age_name', 'year', 'metric_id', 'metric_name', 'upper', 'lower','Units' ])"
   ]
  },
  {
   "cell_type": "code",
   "execution_count": null,
   "id": "75ae1662-1c31-4724-84a4-0862a87ff6ae",
   "metadata": {},
   "outputs": [],
   "source": [
    "pop_all_data = pop_all_data.rename(columns={'val': 'Life Expectancy','Employment':'Employed Workers', 'Wages': 'Total Wages'}).round(2)"
   ]
  },
  {
   "cell_type": "code",
   "execution_count": null,
   "id": "8c8de43a-11c1-4d88-aacd-0f2110b2ae12",
   "metadata": {},
   "outputs": [],
   "source": [
    "pop_all_data = pop_all_data[['IBRC_Geo_ID', 'Statefips', 'Countyfips', 'Description', 'Year', 'Population', 'State or County Release', 'Births', 'Deaths',\n",
    "                             'Life Expectancy', 'Net International Migration', 'Net Domestic Migration', 'Total Population', 'Population 0-4',\n",
    "                             'Population 5-17', 'Population 18-24', 'Population 25-44', 'Population 45-64', 'Population 65+',\n",
    "                             'Population Under 18', 'Population 18-54', 'Population 55+', 'Male Population', 'Female Population'\n",
    "                             , 'Employed Workers', 'Total Wages', 'Average Wage', 'Average Weekly Wage']]\n"
   ]
  },
  {
   "cell_type": "code",
   "execution_count": null,
   "id": "e303d298-8773-4dfe-9afb-9718555058f4",
   "metadata": {},
   "outputs": [],
   "source": [
    "pop_all_data"
   ]
  },
  {
   "cell_type": "markdown",
   "id": "8866be2c",
   "metadata": {},
   "source": [
    "#https://taxfoundation.org/data/all/state/sales-tax-rates-2019/\n",
    "state and local sales tax rates for 2019- requires webscrapping"
   ]
  },
  {
   "cell_type": "markdown",
   "id": "a64e0276",
   "metadata": {},
   "source": [
    "#https://taxfoundation.org/data/all/state/state-individual-income-tax-rates-brackets-2019/\n",
    "2019 state income taxes - copied to excel file as  data/tax_data/2019_state_income_tax_rates"
   ]
  },
  {
   "cell_type": "markdown",
   "id": "b9a11078",
   "metadata": {},
   "source": [
    "#https://www.irs.gov/statistics/soi-tax-stats-individual-income-tax-statistics-2019-zip-code-data-soi\n",
    "individual income tax return data by state data/tax_data/2019_state_income_tax_returns"
   ]
  },
  {
   "cell_type": "markdown",
   "id": "fdf70370",
   "metadata": {},
   "source": [
    "#https://www.census.gov/data/datasets/2019/econ/local/public-use-datasets.html\n",
    "2019 state finance information revenue / expenditure data/tax_data/2019_state_finance_data"
   ]
  },
  {
   "cell_type": "markdown",
   "id": "dcf29395",
   "metadata": {},
   "source": [
    "#https://www.census.gov/data/tables/2019/econ/qtax/historical.html\n",
    "2019 state tax revenue, quarterly breakdown data/tax_data/2019_state_tax_revenue"
   ]
  },
  {
   "cell_type": "code",
   "execution_count": null,
   "id": "f46c33d9-5689-4944-8e5c-612d32ae4da1",
   "metadata": {},
   "outputs": [],
   "source": []
  }
 ],
 "metadata": {
  "kernelspec": {
   "display_name": "Python 3 (ipykernel)",
   "language": "python",
   "name": "python3"
  },
  "language_info": {
   "codemirror_mode": {
    "name": "ipython",
    "version": 3
   },
   "file_extension": ".py",
   "mimetype": "text/x-python",
   "name": "python",
   "nbconvert_exporter": "python",
   "pygments_lexer": "ipython3",
   "version": "3.11.5"
  }
 },
 "nbformat": 4,
 "nbformat_minor": 5
}
