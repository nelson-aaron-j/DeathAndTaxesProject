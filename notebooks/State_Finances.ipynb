{
 "cells": [
  {
   "cell_type": "code",
   "execution_count": null,
   "id": "69345efa-baad-4bf6-8a38-a4f9b2b460ea",
   "metadata": {},
   "outputs": [],
   "source": [
    "import pandas as pd\n",
    "import numpy as np\n",
    "import matplotlib.pyplot as plt\n",
    "import seaborn as sns\n",
    "import re\n",
    "\n",
    "%matplotlib inline\n",
    "pd.set_option('display.max_columns', None)"
   ]
  },
  {
   "cell_type": "code",
   "execution_count": null,
   "id": "8511457f-7ddb-4eee-8e44-f1c99d93aa16",
   "metadata": {},
   "outputs": [],
   "source": [
    "#https://www.census.gov/data/datasets/2019/econ/local/public-use-datasets.html\n",
    "state_finances = pd.read_excel('../data/tax_data/2019_state_finance_datav2.xlsx')"
   ]
  },
  {
   "cell_type": "code",
   "execution_count": null,
   "id": "78f38509-b55e-4e25-8100-325154876c37",
   "metadata": {},
   "outputs": [],
   "source": [
    "state_finances"
   ]
  },
  {
   "cell_type": "code",
   "execution_count": null,
   "id": "b538ca63-a2b4-4cd2-b929-21460aa69560",
   "metadata": {},
   "outputs": [],
   "source": [
    "#drop the top rows that provide info about the dataframe\n",
    "state_finances = state_finances.drop(index=range(0, 9))"
   ]
  },
  {
   "cell_type": "code",
   "execution_count": null,
   "id": "bf8c7917-9e2f-4093-b259-0d55ebb9c714",
   "metadata": {},
   "outputs": [],
   "source": [
    "state_finances.head(3)"
   ]
  },
  {
   "cell_type": "code",
   "execution_count": null,
   "id": "5d87027b-e0de-485e-a85b-13ff854b1908",
   "metadata": {},
   "outputs": [],
   "source": [
    "#drop rows that have NaN for index row 9. This will ensure only combined state and local columns are kept and remove sepearted and CV columns\n",
    "state_finances = state_finances.dropna(axis=1, subset=[9])"
   ]
  },
  {
   "cell_type": "code",
   "execution_count": null,
   "id": "6e323691-c6bb-464b-95f4-69c89b68451c",
   "metadata": {},
   "outputs": [],
   "source": [
    "#remove additional unneeded rows under state name\n",
    "state_finances = state_finances.drop(index=range(10, 15))"
   ]
  },
  {
   "cell_type": "code",
   "execution_count": null,
   "id": "7e754e1c-0f82-49b9-99fc-651f671fa21e",
   "metadata": {},
   "outputs": [],
   "source": [
    "#reset index value\n",
    "state_finances = state_finances.reset_index(drop = True)\n",
    "state_finances.head(3)"
   ]
  },
  {
   "cell_type": "code",
   "execution_count": null,
   "id": "e2922dd2-1ae2-4c39-82fa-3974d202ae81",
   "metadata": {},
   "outputs": [],
   "source": [
    "# replacing the column names with the values in the top row\n",
    "state_finances.columns = state_finances.iloc[0]\n",
    "state_finances = state_finances.drop(0)\n",
    "state_finances.head(3)"
   ]
  },
  {
   "cell_type": "code",
   "execution_count": null,
   "id": "f9b443ee-b25b-4568-96c9-ea96c696754c",
   "metadata": {},
   "outputs": [],
   "source": [
    "state_finances = state_finances.drop(index=range(175, 187))"
   ]
  },
  {
   "cell_type": "code",
   "execution_count": null,
   "id": "4d8e8e02-2507-46a8-b139-bb0fba84424e",
   "metadata": {},
   "outputs": [],
   "source": [
    "#drop rows that have NaN in Description i.e. filler rows in the original dataframe\n",
    "state_finances = state_finances.dropna(subset=['Description'])\n",
    "state_finances.head(3)"
   ]
  },
  {
   "cell_type": "code",
   "execution_count": null,
   "id": "ae7c3f3d-ed3a-4fbe-bb6f-f520e7d55fc1",
   "metadata": {},
   "outputs": [],
   "source": [
    "#transpose the database\n",
    "state_finances = state_finances.T"
   ]
  },
  {
   "cell_type": "code",
   "execution_count": null,
   "id": "4b0f575b-d043-4a93-9630-2cbb64a931a1",
   "metadata": {},
   "outputs": [],
   "source": [
    "#reset index again\n",
    "state_finances = state_finances.reset_index(drop = False)"
   ]
  },
  {
   "cell_type": "code",
   "execution_count": null,
   "id": "a81488e4-5bf5-4327-bfd2-4f0a2aa0d392",
   "metadata": {},
   "outputs": [],
   "source": [
    "#replace column names with value from first row\n",
    "state_finances.columns = state_finances.iloc[0]\n",
    "state_finances = state_finances.drop(0)\n",
    "state_finances.head(3)\n",
    "state_finances.shape"
   ]
  },
  {
   "cell_type": "code",
   "execution_count": null,
   "id": "24be50d4-25f1-4331-8747-0f62573919f7",
   "metadata": {},
   "outputs": [],
   "source": [
    "#strip column names of \"1\"\n",
    "state_finances.columns = state_finances.columns.str.replace(\"1\", \"\")\n",
    "state_finances.columns = state_finances.columns.str.replace(\"2\", \"\")"
   ]
  },
  {
   "cell_type": "code",
   "execution_count": null,
   "id": "690ea7b2-4bfd-45c3-98c6-944335b46442",
   "metadata": {},
   "outputs": [],
   "source": [
    "#strip away the white spaces in column names\n",
    "state_finances.columns = state_finances.columns.str.strip()"
   ]
  },
  {
   "cell_type": "code",
   "execution_count": null,
   "id": "906f16bf-6e15-4d8a-8242-9fce678ec463",
   "metadata": {
    "scrolled": true
   },
   "outputs": [],
   "source": [
    "state_finances.head(2)"
   ]
  },
  {
   "cell_type": "code",
   "execution_count": null,
   "id": "07c59534-6325-4305-8026-1768427e2d6d",
   "metadata": {},
   "outputs": [],
   "source": [
    "new_column_names = {'Revenue': 'Total Revenue','Expenditure':'Total Expenditure'}\n",
    "state_finances.rename(columns=new_column_names, inplace=True)"
   ]
  },
  {
   "cell_type": "code",
   "execution_count": null,
   "id": "9d44f6f8-4ae9-4746-9a3f-abcdf05e5fad",
   "metadata": {},
   "outputs": [],
   "source": [
    "fips_table = pd.read_csv('../data/Fips/fips_table.csv')\n",
    "fips_table.columns"
   ]
  },
  {
   "cell_type": "code",
   "execution_count": null,
   "id": "6c51989e-4181-4812-95c8-4dd4476dffc1",
   "metadata": {
    "scrolled": true
   },
   "outputs": [],
   "source": [
    "state_finances"
   ]
  },
  {
   "cell_type": "code",
   "execution_count": null,
   "id": "0021554f-1c14-496c-bd7a-97a52d422378",
   "metadata": {},
   "outputs": [],
   "source": [
    "fips_table"
   ]
  },
  {
   "cell_type": "code",
   "execution_count": null,
   "id": "98a8c4f7-24d0-4760-9818-9491d8d738b3",
   "metadata": {},
   "outputs": [],
   "source": [
    "fips_table.columns = fips_table.columns.str.strip()"
   ]
  },
  {
   "cell_type": "code",
   "execution_count": null,
   "id": "1aaa5cf8-d6c6-43ea-9ad6-8cc2cda04a7a",
   "metadata": {
    "scrolled": true
   },
   "outputs": [],
   "source": [
    "state_finances2 = pd.merge(fips_table, state_finances, on = 'Description', how = 'inner')\n",
    "state_finances2"
   ]
  },
  {
   "cell_type": "code",
   "execution_count": null,
   "id": "03d01209-1d01-4f06-bb90-b7fe72c5d91b",
   "metadata": {},
   "outputs": [],
   "source": [
    "state_finances2 = state_finances2.rename(columns={'Description': 'Location'})"
   ]
  },
  {
   "cell_type": "code",
   "execution_count": null,
   "id": "766ae9de-2291-4789-be9b-38eea7ea535b",
   "metadata": {},
   "outputs": [],
   "source": [
    "state_finances2 = state_finances2.drop(columns=['Countyfips', 'From State government revenue', 'From local governments revenue','By character and object:', 'Education services:','Social services and income maintenance:', 'Transportation:',\n",
    "                                              'Public safety:', 'Environment and housing:','Governmental administration:', 'General expenditure, n.e.c.:','By purpose:'])\n",
    "                                     \n",
    "      "
   ]
  },
  {
   "cell_type": "code",
   "execution_count": null,
   "id": "26278fcc-53f4-4a57-81cb-18ceaf93443c",
   "metadata": {},
   "outputs": [],
   "source": [
    "state_finances2.columns = state_finances2.columns.str.title()\n"
   ]
  },
  {
   "cell_type": "code",
   "execution_count": null,
   "id": "93defc18-b9a6-45e2-8e78-0829417d4fee",
   "metadata": {},
   "outputs": [],
   "source": [
    "for column in state_finances2.columns:\n",
    "    try:\n",
    "        state_finances2[column] = state_finances2[column].astype(float)\n",
    "    except ValueError as e:\n",
    "        print(f\"Error converting column '{column}' to float: {e}\")"
   ]
  },
  {
   "cell_type": "code",
   "execution_count": null,
   "id": "1038830c-372c-4d4b-84b2-512727a07e5f",
   "metadata": {},
   "outputs": [],
   "source": [
    "state_finances2.dtypes"
   ]
  },
  {
   "cell_type": "code",
   "execution_count": null,
   "id": "40376a44-9395-4a15-a503-eb63fe8be64a",
   "metadata": {},
   "outputs": [],
   "source": [
    "state_finances2.head(2)"
   ]
  },
  {
   "cell_type": "code",
   "execution_count": null,
   "id": "e3c81b88-b939-40ad-b5db-6133e7de7b2c",
   "metadata": {},
   "outputs": [],
   "source": [
    "state_finances2.to_csv('../data/cleaned_data/state_finances2.csv',index=False)"
   ]
  }
 ],
 "metadata": {
  "kernelspec": {
   "display_name": "Python 3 (ipykernel)",
   "language": "python",
   "name": "python3"
  },
  "language_info": {
   "codemirror_mode": {
    "name": "ipython",
    "version": 3
   },
   "file_extension": ".py",
   "mimetype": "text/x-python",
   "name": "python",
   "nbconvert_exporter": "python",
   "pygments_lexer": "ipython3",
   "version": "3.11.5"
  }
 },
 "nbformat": 4,
 "nbformat_minor": 5
}
