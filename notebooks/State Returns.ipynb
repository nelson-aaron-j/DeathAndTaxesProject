{
 "cells": [
  {
   "cell_type": "code",
   "execution_count": null,
   "id": "b790bba2-2559-4ca0-bbf7-f72b6c2d4ff9",
   "metadata": {},
   "outputs": [],
   "source": [
    "import pandas as pd\n",
    "import numpy as np\n",
    "import matplotlib.pyplot as plt\n",
    "import seaborn as sns\n",
    "import re\n",
    "\n",
    "%matplotlib inline\n",
    "pd.set_option('display.max_columns', None)"
   ]
  },
  {
   "cell_type": "code",
   "execution_count": null,
   "id": "97b4549d-4bfb-43c1-a3c2-35668e872505",
   "metadata": {},
   "outputs": [],
   "source": [
    "#https://www.irs.gov/statistics/soi-tax-stats-county-data-2019\n",
    "state_returns = pd.read_excel('../data/tax_data/19incyall.xlsx')"
   ]
  },
  {
   "cell_type": "code",
   "execution_count": null,
   "id": "a4211096-cf91-4a5a-8efb-c6d4b3e11114",
   "metadata": {
    "scrolled": true
   },
   "outputs": [],
   "source": [
    "state_returns"
   ]
  },
  {
   "cell_type": "code",
   "execution_count": null,
   "id": "7880851e-a368-43fe-955d-aec10749bef0",
   "metadata": {},
   "outputs": [],
   "source": [
    "state_returns = state_returns.drop(index=range(0, 2))"
   ]
  },
  {
   "cell_type": "code",
   "execution_count": null,
   "id": "ea5948a4-c59b-4cf3-9d1c-eba0048de7b7",
   "metadata": {},
   "outputs": [],
   "source": [
    "state_returns = state_returns.reset_index(drop=True)\n",
    "state_returns.columns = state_returns.iloc[0]\n",
    "state_returns = state_returns.drop(0)\n",
    "state_returns.head(5)"
   ]
  },
  {
   "cell_type": "code",
   "execution_count": null,
   "id": "c39390a3-0a28-44a0-b114-ab63b92636fc",
   "metadata": {},
   "outputs": [],
   "source": [
    "first_row_contains_number = state_returns.iloc[0].notna() & state_returns.iloc[0].astype(str).str.contains('Number')\n",
    "columns_to_drop = state_returns.columns[first_row_contains_number]\n",
    "state_returns = state_returns.drop(columns=columns_to_drop)"
   ]
  },
  {
   "cell_type": "code",
   "execution_count": null,
   "id": "a50b1865-58c1-4725-bfbd-457753b716ca",
   "metadata": {},
   "outputs": [],
   "source": [
    "state_returns.head(2)"
   ]
  },
  {
   "cell_type": "code",
   "execution_count": null,
   "id": "73913c5d-7755-4d45-acc2-43cfb248a9d0",
   "metadata": {},
   "outputs": [],
   "source": [
    "state_returns = state_returns.reset_index(drop=True)"
   ]
  },
  {
   "cell_type": "code",
   "execution_count": null,
   "id": "9d2791da-3502-4b94-a2b4-1f879a02ee64",
   "metadata": {},
   "outputs": [],
   "source": [
    "state_returns = state_returns.drop(index=range(0,2))\n",
    "state_returns = state_returns.drop(index=range(3195,3220))"
   ]
  },
  {
   "cell_type": "code",
   "execution_count": null,
   "id": "81231f7f-aa99-4669-9cbd-200c1c2bc69e",
   "metadata": {},
   "outputs": [],
   "source": [
    "state_returns = state_returns.rename(columns = {'State\\nFIPS \\ncode [1]': 'Statefips','County \\nFIPS \\ncode [1]':'Countyfips','County name':'Location'})"
   ]
  },
  {
   "cell_type": "code",
   "execution_count": null,
   "id": "e91c6c19-437d-46e9-b15d-99eb91cc7528",
   "metadata": {},
   "outputs": [],
   "source": [
    "state_returns = state_returns.drop(columns = ['Number of returns [2]','Number of single returns','Number of joint returns','Number of head of household returns','Number of electronically filed returns','Number of computer prepared paper returns','Number with paid preparers signature','Number of returns with direct deposit','Number of \\nindividuals [3]','Number of volunteer prepared returns [4]'])"
   ]
  },
  {
   "cell_type": "code",
   "execution_count": null,
   "id": "43967d72-ac66-46f6-91b8-fe073c37c014",
   "metadata": {},
   "outputs": [],
   "source": [
    "for column in state_returns.columns:\n",
    "    try:\n",
    "        state_returns[column] = state_returns[column].astype(float)\n",
    "    except ValueError as e:\n",
    "        print(f\"Error converting column '{column}' to float: {e}\")"
   ]
  },
  {
   "cell_type": "code",
   "execution_count": null,
   "id": "ab9d8eec-9f2a-4f5a-b8ac-b104933b02d4",
   "metadata": {},
   "outputs": [],
   "source": [
    "state_returns.head(2)"
   ]
  },
  {
   "cell_type": "code",
   "execution_count": null,
   "id": "23f7803c-9767-41ac-9667-d2061a3b667e",
   "metadata": {},
   "outputs": [],
   "source": [
    "state_returns.to_csv('../data/cleaned_data/state_returns.csv',index=False)"
   ]
  }
 ],
 "metadata": {
  "kernelspec": {
   "display_name": "Python 3 (ipykernel)",
   "language": "python",
   "name": "python3"
  },
  "language_info": {
   "codemirror_mode": {
    "name": "ipython",
    "version": 3
   },
   "file_extension": ".py",
   "mimetype": "text/x-python",
   "name": "python",
   "nbconvert_exporter": "python",
   "pygments_lexer": "ipython3",
   "version": "3.11.5"
  }
 },
 "nbformat": 4,
 "nbformat_minor": 5
}
