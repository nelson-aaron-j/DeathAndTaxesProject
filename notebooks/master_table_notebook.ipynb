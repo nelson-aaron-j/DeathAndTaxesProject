{
 "cells": [
  {
   "cell_type": "code",
   "execution_count": null,
   "id": "39b5f125-afb8-4a9a-82eb-778f69cae2b7",
   "metadata": {},
   "outputs": [],
   "source": [
    "import pandas as pd\n",
    "import numpy as np\n",
    "import re\n",
    "\n",
    "pd.set_option('display.max_columns', None)"
   ]
  },
  {
   "cell_type": "code",
   "execution_count": null,
   "id": "26e047d1-512b-4903-875c-5af7ece50ae0",
   "metadata": {
    "scrolled": true
   },
   "outputs": [],
   "source": [
    "#import population data\n",
    "pop_all_data = pd.read_csv('../cleaned_data/pop_all_data.csv')\n",
    "pop_all_data"
   ]
  },
  {
   "cell_type": "code",
   "execution_count": null,
   "id": "95311f74-f450-4a50-95ca-45d2bf1e41fb",
   "metadata": {
    "scrolled": true
   },
   "outputs": [],
   "source": [
    "#import tax return data\n",
    "state_returns = pd.read_csv('../cleaned_data/state_returns.csv')\n",
    "state_returns"
   ]
  },
  {
   "cell_type": "code",
   "execution_count": null,
   "id": "a63fb091-14d5-48b2-9f52-67a0f0986918",
   "metadata": {
    "scrolled": true
   },
   "outputs": [],
   "source": [
    "#Import state finance data\n",
    "state_finances2 = pd.read_csv('../cleaned_data/state_finances2.csv')\n",
    "state_finances2"
   ]
  },
  {
   "cell_type": "code",
   "execution_count": null,
   "id": "070b50da-dd30-4dc0-bcf5-287bf200265b",
   "metadata": {
    "scrolled": true
   },
   "outputs": [],
   "source": [
    "#first join\n",
    "first_join = pd.merge(pop_all_data, state_returns, on = ['Statefips','Countyfips'], how = 'inner')"
   ]
  },
  {
   "cell_type": "code",
   "execution_count": null,
   "id": "70ff2245-0253-4b1e-b743-a630337b906a",
   "metadata": {},
   "outputs": [],
   "source": [
    "#final join\n",
    "final_join = pd.merge(first_join, state_finances2, on = ['Statefips'], how = 'left')\n",
    "final_join"
   ]
  },
  {
   "cell_type": "code",
   "execution_count": null,
   "id": "9d88c0a6-7f36-4102-b22b-7db16d4358ca",
   "metadata": {},
   "outputs": [],
   "source": [
    "#creating a dictionary to map state fips name\n",
    "state_fips_dict = {0.0: 'United States', 1: 'Alabama', 2: 'Alaska', 4: 'Arizona', 5: 'Arkansas', 6: 'California', 8: 'Colorado',\n",
    "                   9: 'Connecticut', 10: 'Delaware', 11: 'District of Columbia', 12: 'Florida', 13: 'Georgia', 15: 'Hawaii', 16: 'Idaho',\n",
    "                   17: 'Illinois', 18: 'Indiana', 19: 'Iowa', 20: 'Kansas', 21: 'Kentucky', 22: 'Louisiana', 23: 'Maine', 24: 'Maryland',\n",
    "                   25: 'Massachusetts', 26: 'Michigan', 27: 'Minnesota', 28: 'Mississippi', 29: 'Missouri', 30: 'Montana', 31: 'Nebraska',\n",
    "                   32: 'Nevada', 33: 'New Hampshire', 34: 'New Jersey', 35: 'New Mexico', 36: 'New York', 37: 'North Carolina', 38: 'North Dakota',\n",
    "                   39: 'Ohio', 40: 'Oklahoma', 41: 'Oregon', 42: 'Pennsylvania', 44: 'Rhode Island', 45: 'South Carolina', 46: 'South Dakota',\n",
    "                   47: 'Tennessee', 48: 'Texas', 49: 'Utah', 50: 'Vermont', 51: 'Virginia', 53: 'Washington', 54: 'West Virginia', 55: 'Wisconsin',\n",
    "                   56: 'Wyoming'}"
   ]
  },
  {
   "cell_type": "code",
   "execution_count": null,
   "id": "00c1b3f1-b926-4abe-a9ff-6a6ce5f9c03c",
   "metadata": {},
   "outputs": [],
   "source": [
    "#mapping state name using dictionary and state fips. this will create a sepearte column with only the state name.\n",
    "final_join['State_Name'] = final_join['Statefips'].map(state_fips_dict)"
   ]
  },
  {
   "cell_type": "code",
   "execution_count": null,
   "id": "7ad1312c-a1d7-40f7-875b-81213aa80135",
   "metadata": {
    "scrolled": true
   },
   "outputs": [],
   "source": [
    "final_join.head(4)"
   ]
  },
  {
   "cell_type": "code",
   "execution_count": null,
   "id": "93528370-5037-42c7-a6fd-e50188c2b364",
   "metadata": {},
   "outputs": [],
   "source": [
    "final_join = final_join.drop(columns=['Location_x','Net International Migration','Net Domestic Migration','State','Taxable interest','Ordinary dividends',\n",
    "                                      'Qualified dividends [8]','Business or profession\\nnet income (less loss)','Net capital gain (less loss) in AGI','Partnership/S-corp net income (less loss)',\n",
    "                                      'Partnership/S-corp net income (less loss)','Total statuory adjustments','Educator expenses','Self-employed (Keogh) retirement plans',\n",
    "                                      'Self-employed health insurance deduction','Individual retirement arrangement payments','Student loan interest deduction','Basic standard deduction',\n",
    "                                      'Additional standard deduction','Total itemized deductions','Total medical and dental \\nexpenses deduction','Limited state and local taxes paid','Home mortgage interest paid ',\n",
    "                                      'Home mortgage interest paid \\nto personal seller','Deductible points','Investment interest paid','Total charitable contributions','Other non-limited miscellaneous deduction',\n",
    "                                      'Qualified business income deduction\\n','Income tax before credits','Alternative minimum tax','Excess advance \\npremium tax credit repayment','Total tax credits [10]',\n",
    "                                      'Foreign tax credit','Child and dependent care credit','Nonrefundable education credit','Retirement savings contributions credit','Child and other dependent credit',\n",
    "                                      'Residential energy tax credit','Self-employment tax','Total premium tax credit','Advance premium tax credit','Total tax payments','Earned income credit [11]',\n",
    "                                      'Excess earned income credit \\n(refundable) [12]','Additional child tax credit','Refundable education credit [13]','Net premium tax credit','Income tax after credits',\n",
    "                                      'Total additional Medicare tax','Net investment income tax','Tax due at time of filing [15]','Total overpayments','Overpayments refunded [16]',\n",
    "                                      \"Credited to next year's estimated tax\",'Location','Debt Outstanding', 'Short-Term Debt', 'Long-Term Debt', 'Public Debt For Private Purposes', 'Long-Term Debt Issued',\n",
    "                                      'Long-Term Debt Retired','Cash And Security Holdings', 'Insurance Trust Funds','Unemployment Compensation','Employee Retirement',\t\"Workers' Compensation\", 'Miscellaneous',\n",
    "                                      'Other Than Insurance Trust Funds','Offsets To Debt','Bond Funds','Other','Other Insurance Trust Expenditure'])"
   ]
  },
  {
   "cell_type": "code",
   "execution_count": null,
   "id": "177df6c5-bccf-47ff-8099-a4e73307e254",
   "metadata": {},
   "outputs": [],
   "source": [
    "column_to_drop = 'Home mortgage interest paid'\n",
    "\n",
    "# Check if the column exists before attempting to drop it\n",
    "if column_to_drop in final_join.columns:\n",
    "    final_join = final_join.drop(columns=[column_to_drop], errors='ignore')\n",
    "    print(f\"Column '{column_to_drop}' successfully dropped.\")\n",
    "else:\n",
    "    print(f\"Column '{column_to_drop}' not found in DataFrame.\")"
   ]
  },
  {
   "cell_type": "code",
   "execution_count": null,
   "id": "c00036bf-2e06-4f3f-acfd-3389f7e69f84",
   "metadata": {},
   "outputs": [],
   "source": [
    "final_join.columns = final_join.columns.str.strip()"
   ]
  },
  {
   "cell_type": "code",
   "execution_count": null,
   "id": "a42f9260-59dd-4ec6-b1ef-b69e846f4a01",
   "metadata": {
    "scrolled": true
   },
   "outputs": [],
   "source": [
    "final_join.head(3)"
   ]
  },
  {
   "cell_type": "code",
   "execution_count": null,
   "id": "bf4a9099-7bed-4b09-8b03-a37e4c80d90e",
   "metadata": {
    "scrolled": true
   },
   "outputs": [],
   "source": [
    "#rearranging columns for ease of use\n",
    "final_join = final_join[['State_Name', 'Statefips', 'Location_y', 'Countyfips'] +\n",
    "                        [col for col in final_join.columns if col not in ['State_Name', 'Location_y', 'Statefips', 'Countyfips']]]"
   ]
  },
  {
   "cell_type": "code",
   "execution_count": null,
   "id": "6be3deea-da7a-4b2c-a894-1a736ae9f453",
   "metadata": {
    "scrolled": true
   },
   "outputs": [],
   "source": [
    "#rename columns\n",
    "final_join = final_join.rename(columns={'State_Name': 'State', 'Location_y': 'County'})\n"
   ]
  },
  {
   "cell_type": "code",
   "execution_count": null,
   "id": "9be256de-50f3-4775-8959-aebfc38e201b",
   "metadata": {},
   "outputs": [],
   "source": [
    "final_join['County'].iloc[0] = np.nan"
   ]
  },
  {
   "cell_type": "code",
   "execution_count": null,
   "id": "52fb5329-a900-4c69-b3c7-2fd12da3d63b",
   "metadata": {},
   "outputs": [],
   "source": [
    "final_join"
   ]
  },
  {
   "cell_type": "markdown",
   "id": "451f3430-c5dd-4b76-8eff-c3077f91f533",
   "metadata": {},
   "source": [
    "Creating multiple new columns for final dashboarding to include correlations"
   ]
  },
  {
   "cell_type": "code",
   "execution_count": null,
   "id": "00ec0cdd-b16d-4a9d-b622-0b96c8c8c1bb",
   "metadata": {},
   "outputs": [],
   "source": [
    "final_join['Average Taxable Income'] = (final_join['Taxable income'] / final_join['Total Population'])"
   ]
  },
  {
   "cell_type": "code",
   "execution_count": null,
   "id": "221065a5-add6-49b0-a048-fbf95d51ac8f",
   "metadata": {},
   "outputs": [],
   "source": [
    "final_join['Average Taxes Paid'] = (final_join['Total tax liability [14]'] / final_join['Total Population'])"
   ]
  },
  {
   "cell_type": "code",
   "execution_count": null,
   "id": "37b81092-4c1a-43f5-9dd1-caedc0dbcdf4",
   "metadata": {},
   "outputs": [],
   "source": [
    "#not  divided by total population as this will provide data for entire region\n",
    "final_join['Percent Of Taxable Income Paid In Taxes'] = (final_join['Total tax liability [14]'] / final_join['Taxable income'])"
   ]
  },
  {
   "cell_type": "markdown",
   "id": "c0e5bc1b-9ff1-40f6-ad10-1c5207e8dc69",
   "metadata": {},
   "source": [
    "Creating correlations to be used on final dashboard"
   ]
  },
  {
   "cell_type": "code",
   "execution_count": null,
   "id": "4b172f9a-b2ab-4310-a358-61896fa6a47d",
   "metadata": {},
   "outputs": [],
   "source": [
    "final_join['Average Taxable Income Corr'] = final_join['Life Expectancy'].corr(final_join['Average Taxable Income'])"
   ]
  },
  {
   "cell_type": "code",
   "execution_count": null,
   "id": "b609e186-fdee-43be-a207-e2c61ad55270",
   "metadata": {},
   "outputs": [],
   "source": [
    "final_join['Average Wage Corr'] = final_join['Life Expectancy'].corr(final_join['Average Wage'])"
   ]
  },
  {
   "cell_type": "code",
   "execution_count": null,
   "id": "3fe95f29-5450-4be9-b8dd-0d3b25d9bac3",
   "metadata": {},
   "outputs": [],
   "source": [
    "final_join['Average State and Local Income Taxes Paid Corr'] = final_join['Life Expectancy'].corr(final_join['State and local income taxes'] / final_join['Total Population'])"
   ]
  },
  {
   "cell_type": "code",
   "execution_count": null,
   "id": "0c41e042-de47-4414-a524-e3c3e3774bde",
   "metadata": {},
   "outputs": [],
   "source": [
    "final_join['Average State and Local General Sales Taxes Paid Corr'] = final_join['Life Expectancy'].corr(final_join['State and local general sales taxes'] / final_join['Total Population'])\n"
   ]
  },
  {
   "cell_type": "code",
   "execution_count": null,
   "id": "75d498fd-3506-48e6-8445-6b91b3c77980",
   "metadata": {},
   "outputs": [],
   "source": [
    "final_join['Average Taxes Paid Corr'] = final_join['Life Expectancy'].corr(final_join['Average Taxes Paid'])"
   ]
  },
  {
   "cell_type": "code",
   "execution_count": null,
   "id": "586b29a6-d5bf-4d3e-8a08-0acb163628c8",
   "metadata": {},
   "outputs": [],
   "source": [
    "final_join['Percent Of Taxable Income Paid in Taxes Corr'] = final_join['Life Expectancy'].corr(final_join['Percent Of Taxable Income Paid In Taxes'])\n"
   ]
  },
  {
   "cell_type": "code",
   "execution_count": null,
   "id": "a8e99f76-712e-47bc-89ed-0b947300797e",
   "metadata": {},
   "outputs": [],
   "source": [
    "final_join['State Tax Revenue Corr'] = final_join['Life Expectancy'].corr(final_join['Tax Revenue'])"
   ]
  },
  {
   "cell_type": "code",
   "execution_count": null,
   "id": "d24c7e9e-d97b-4b67-9a75-e68d56201dbb",
   "metadata": {},
   "outputs": [],
   "source": [
    "final_join['Government Services Revenue Corr'] = final_join['Life Expectancy'].corr(final_join['Total Charges And Miscellaneous General Revenue'])"
   ]
  },
  {
   "cell_type": "code",
   "execution_count": null,
   "id": "1cf54b9c-8b54-44da-b7f5-b220d81a8fcb",
   "metadata": {},
   "outputs": [],
   "source": [
    "final_join['Federal Tax Revenue Corr'] = final_join['Life Expectancy'].corr(final_join['From Federal Government Revenue'])"
   ]
  },
  {
   "cell_type": "code",
   "execution_count": null,
   "id": "abab160d-89f5-4094-8d30-4e285f87ca9f",
   "metadata": {},
   "outputs": [],
   "source": [
    "final_join['Insurance Trust Revenue Corr'] = final_join['Life Expectancy'].corr(final_join['Total Insurance Trust Revenue'])"
   ]
  },
  {
   "cell_type": "code",
   "execution_count": null,
   "id": "a38f6ca2-eabf-4cb2-88b7-a17894eeace5",
   "metadata": {},
   "outputs": [],
   "source": [
    "final_join['Utility Revenue Corr'] = final_join['Life Expectancy'].corr(final_join['Total Utility Revenue'])"
   ]
  },
  {
   "cell_type": "code",
   "execution_count": null,
   "id": "4eebf44c-df02-454d-a22c-c590ded320a3",
   "metadata": {},
   "outputs": [],
   "source": [
    "final_join['Liquor Store Revenue Corr'] = final_join['Life Expectancy'].corr(final_join['Total Liquor Store Revenue'])"
   ]
  },
  {
   "cell_type": "code",
   "execution_count": null,
   "id": "d0810023-1548-47da-aa14-2819133e0552",
   "metadata": {},
   "outputs": [],
   "source": [
    "final_join['Social Services And Income Maintenance Expenditure Corr'] = final_join['Life Expectancy'].corr(final_join['Total Social Services And Income Maintenance Expenditure:'])"
   ]
  },
  {
   "cell_type": "code",
   "execution_count": null,
   "id": "dd2ccf08-f7f6-423f-a58c-a4033be1fefb",
   "metadata": {},
   "outputs": [],
   "source": [
    "final_join['Education Services Expenditure Corr'] = final_join['Life Expectancy'].corr(final_join['Total Education Services Expenditure:'])"
   ]
  },
  {
   "cell_type": "code",
   "execution_count": null,
   "id": "75e168aa-98f9-4247-912c-e0ee1dd1b8a5",
   "metadata": {},
   "outputs": [],
   "source": [
    "final_join['Insurance Trust Expenditure Corr'] = final_join['Life Expectancy'].corr(final_join['Total Insurance Trust Expenditure:'])"
   ]
  },
  {
   "cell_type": "code",
   "execution_count": null,
   "id": "254c1196-59fc-42ac-bb07-7aad2ffd3aa5",
   "metadata": {},
   "outputs": [],
   "source": [
    "final_join['Public Safety Expenditure Corr'] = final_join['Life Expectancy'].corr(final_join['Total Public Safety Expenditure:'])"
   ]
  },
  {
   "cell_type": "code",
   "execution_count": null,
   "id": "e037d2f8-7f12-4bf3-a7ef-477802bde38f",
   "metadata": {},
   "outputs": [],
   "source": [
    "final_join['Utility Expenditure Corr'] = final_join['Life Expectancy'].corr(final_join['Total Utility Expenditure:'])"
   ]
  },
  {
   "cell_type": "code",
   "execution_count": null,
   "id": "e80058eb-940a-4fdf-8d49-c45eb67a46bb",
   "metadata": {},
   "outputs": [],
   "source": [
    "final_join['Transportation Expenditure Corr'] = final_join['Life Expectancy'].corr(final_join['Total Transportation Expenditure:'])"
   ]
  },
  {
   "cell_type": "code",
   "execution_count": null,
   "id": "469de588-ce05-4093-94d4-0884de7ed342",
   "metadata": {},
   "outputs": [],
   "source": [
    "final_join['Governmental Administration Expenditure Corr'] = final_join['Life Expectancy'].corr(final_join['Total Governmental Administration Expenditure:'])"
   ]
  },
  {
   "cell_type": "code",
   "execution_count": null,
   "id": "4b90bc12-2f3a-49af-aee3-fde08c75e2e4",
   "metadata": {},
   "outputs": [],
   "source": [
    "final_join['Environment and Housing Expenditure Corr'] = final_join['Life Expectancy'].corr(final_join['Total Environment And Housing Expenditure:'])"
   ]
  },
  {
   "cell_type": "markdown",
   "id": "97e788f7-e867-4322-be98-acc0c53ef601",
   "metadata": {},
   "source": [
    "CODE USED TO DETERMINE IF ANY SIGNIFICANT CORRELATION EXISTED BETWEEN LIFE EXPECTANCY AND ANY SUB CATAGORY OF REVENUE OR EXPENDITURE.\n",
    "SINCE NO SIGNIFICANT CORRELATION EXISTED, CODE IS NOT USED FOR FINAL DASHBOARD BUT IS AVAIABLE\n",
    "\n",
    "target_column = 'Life Expectancy'\n",
    "\n",
    "#Find the starting index of \"Revenue\"\n",
    "start_index = final_join.columns.get_loc(\"Revenue\")\n",
    "\n",
    "#List of columns to calculate correlations with\n",
    "other_columns = final_join.columns[start_index+1:]\n",
    "\n",
    "#Calculate correlations and create new columns with correlation values\n",
    "for col in other_columns:\n",
    "    correlation_value = final_join[target_column].corr(final_join[col])\n",
    "    new_col_name = f\"Corr {col}\"\n",
    "    final_join[new_col_name] = correlation_value"
   ]
  },
  {
   "cell_type": "code",
   "execution_count": null,
   "id": "566731ff-d04a-45bd-8c62-8efe399cb175",
   "metadata": {},
   "outputs": [],
   "source": [
    "final_join.head(3)"
   ]
  },
  {
   "cell_type": "code",
   "execution_count": null,
   "id": "b5e084f4-9f5d-4031-a8b7-e89284d7b87c",
   "metadata": {},
   "outputs": [],
   "source": [
    "master_table = final_join.copy()\n",
    "master_table.to_csv('../cleaned_data/master_table.csv',index=False)"
   ]
  },
  {
   "cell_type": "code",
   "execution_count": null,
   "id": "343bce6e-d619-4f64-95ab-cf65e8b7e827",
   "metadata": {},
   "outputs": [],
   "source": [
    "master_table[master_table['Countyfips']==0].head(2)"
   ]
  }
 ],
 "metadata": {
  "kernelspec": {
   "display_name": "Python 3 (ipykernel)",
   "language": "python",
   "name": "python3"
  },
  "language_info": {
   "codemirror_mode": {
    "name": "ipython",
    "version": 3
   },
   "file_extension": ".py",
   "mimetype": "text/x-python",
   "name": "python",
   "nbconvert_exporter": "python",
   "pygments_lexer": "ipython3",
   "version": "3.11.5"
  }
 },
 "nbformat": 4,
 "nbformat_minor": 5
}
