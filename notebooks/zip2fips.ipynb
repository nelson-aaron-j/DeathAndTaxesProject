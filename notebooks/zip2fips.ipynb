{
 "cells": [
  {
   "cell_type": "code",
   "execution_count": null,
   "id": "d03ceb5f-e77e-4ae7-a134-f0ff7cdd58b6",
   "metadata": {},
   "outputs": [],
   "source": [
    "import pandas as pd\n",
    "import numpy as np\n",
    "import matplotlib.pyplot as plt\n",
    "import seaborn as sns\n",
    "import re\n",
    "\n",
    "%matplotlib inline\n",
    "pd.set_option('display.max_columns', None)"
   ]
  },
  {
   "cell_type": "code",
   "execution_count": null,
   "id": "65f24d1f-5ea0-447f-abc9-9f89df64d1f1",
   "metadata": {},
   "outputs": [],
   "source": [
    "zips2fips = pd.read_csv('../data/Fips/ZIP-COUNTY-FIPS_2017-06.csv')\n",
    "zips2fips"
   ]
  },
  {
   "cell_type": "code",
   "execution_count": null,
   "id": "1f9fc758-1174-4e12-87e6-3778b39d0e92",
   "metadata": {},
   "outputs": [],
   "source": [
    "zips2fips.dtypes"
   ]
  },
  {
   "cell_type": "code",
   "execution_count": null,
   "id": "1c2d061e-06b7-4d09-b92f-86fc08966c9a",
   "metadata": {},
   "outputs": [],
   "source": [
    "zips2fips['Statefips'] = zips2fips['STCOUNTYFP'].astype(str).str[:-3]\n",
    "zips2fips['Countyfips'] = zips2fips['STCOUNTYFP'].astype(str).str[-3:]\n",
    "zips2fips['Statefips'] = zips2fips['Statefips'].astype(int)\n",
    "zips2fips['Countyfips'] = zips2fips['Countyfips'].astype(int)\n",
    "zips2fips"
   ]
  },
  {
   "cell_type": "code",
   "execution_count": null,
   "id": "c1748ba6-69e3-4bf1-b4f2-f41c03d6e035",
   "metadata": {},
   "outputs": [],
   "source": [
    "zips2fips = zips2fips.drop(columns=['CLASSFP'])\n",
    "zips2fips"
   ]
  },
  {
   "cell_type": "code",
   "execution_count": null,
   "id": "72bb72a2-ee91-4142-be4e-3b72fd449326",
   "metadata": {},
   "outputs": [],
   "source": [
    "filtered_rows1 = zips2fips[zips2fips['STATE'].str.contains('TN')]\n",
    "filtered_rows1 = filtered_rows1.sort_values(by='ZIP')\n",
    "filtered_rows1"
   ]
  },
  {
   "cell_type": "code",
   "execution_count": null,
   "id": "ee98976c-ef37-4416-aa00-07eeff574f7f",
   "metadata": {},
   "outputs": [],
   "source": [
    "pop_fips_table = pd.read_csv('../data/Fips/fips_table.csv')\n",
    "pop_fips_table.dtypes"
   ]
  },
  {
   "cell_type": "code",
   "execution_count": null,
   "id": "44ed3f3c-37bd-4a4f-bdc1-5d6412fe91de",
   "metadata": {},
   "outputs": [],
   "source": [
    "pop_fips_table"
   ]
  },
  {
   "cell_type": "code",
   "execution_count": null,
   "id": "c5e8ccea-66fb-4efa-8670-96fdb3c210ea",
   "metadata": {},
   "outputs": [],
   "source": [
    "complete_fips = pd.merge(pop_fips_table, zips2fips, left_on = [ 'Statefips', 'Countyfips'], \n",
    "                        right_on = ['Statefips', 'Countyfips'], how = 'right')"
   ]
  },
  {
   "cell_type": "code",
   "execution_count": null,
   "id": "e8243cde-73ba-44e4-872a-6e28016d0774",
   "metadata": {},
   "outputs": [],
   "source": [
    "complete_fips"
   ]
  },
  {
   "cell_type": "code",
   "execution_count": null,
   "id": "eece892c-1f03-4fa0-b256-5455e8834f45",
   "metadata": {},
   "outputs": [],
   "source": [
    "complete_fips = complete_fips[['STATE','COUNTYNAME','Description','ZIP','Statefips','Countyfips','STCOUNTYFP']]"
   ]
  },
  {
   "cell_type": "code",
   "execution_count": null,
   "id": "d84989ff-b328-4c57-800a-e37b05b28879",
   "metadata": {},
   "outputs": [],
   "source": [
    "complete_fips"
   ]
  },
  {
   "cell_type": "code",
   "execution_count": null,
   "id": "a42bb6de-18bc-44b3-abd9-d230007522fb",
   "metadata": {},
   "outputs": [],
   "source": [
    "complete_fips.to_csv('../data/Fips/complete_fips.csv',index=False)"
   ]
  },
  {
   "cell_type": "code",
   "execution_count": null,
   "id": "2570ff34-6abc-417c-8558-eed3b6daa1ed",
   "metadata": {},
   "outputs": [],
   "source": [
    "filtered_rows2 = complete_fips[complete_fips['STATE'].str.contains('TN')]\n",
    "filtered_rows2 = filtered_rows2.sort_values(by='ZIP')\n",
    "filtered_rows2"
   ]
  },
  {
   "cell_type": "code",
   "execution_count": null,
   "id": "7c034012-5b97-46d4-9158-32f6a506419a",
   "metadata": {},
   "outputs": [],
   "source": []
  }
 ],
 "metadata": {
  "kernelspec": {
   "display_name": "Python 3 (ipykernel)",
   "language": "python",
   "name": "python3"
  },
  "language_info": {
   "codemirror_mode": {
    "name": "ipython",
    "version": 3
   },
   "file_extension": ".py",
   "mimetype": "text/x-python",
   "name": "python",
   "nbconvert_exporter": "python",
   "pygments_lexer": "ipython3",
   "version": "3.11.5"
  }
 },
 "nbformat": 4,
 "nbformat_minor": 5
}
