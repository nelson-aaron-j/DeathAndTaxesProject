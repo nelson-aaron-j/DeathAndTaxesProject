{
 "cells": [
  {
   "cell_type": "code",
   "execution_count": null,
   "id": "69345efa-baad-4bf6-8a38-a4f9b2b460ea",
   "metadata": {},
   "outputs": [],
   "source": [
    "import pandas as pd\n",
    "import numpy as np\n",
    "import matplotlib.pyplot as plt\n",
    "import seaborn as sns\n",
    "import re\n",
    "\n",
    "%matplotlib inline\n",
    "pd.set_option('display.max_columns', None)"
   ]
  },
  {
   "cell_type": "code",
   "execution_count": null,
   "id": "8511457f-7ddb-4eee-8e44-f1c99d93aa16",
   "metadata": {},
   "outputs": [],
   "source": [
    "state_finances = pd.read_excel('data/tax_data/2019_state_finance_data.xlsx')"
   ]
  },
  {
   "cell_type": "code",
   "execution_count": null,
   "id": "78f38509-b55e-4e25-8100-325154876c37",
   "metadata": {},
   "outputs": [],
   "source": [
    "state_finances"
   ]
  },
  {
   "cell_type": "code",
   "execution_count": null,
   "id": "b538ca63-a2b4-4cd2-b929-21460aa69560",
   "metadata": {},
   "outputs": [],
   "source": [
    "#drop the top rows that provide info abotu the dataframe\n",
    "state_finances = state_finances.drop(index=range(0, 9))"
   ]
  },
  {
   "cell_type": "code",
   "execution_count": null,
   "id": "bf8c7917-9e2f-4093-b259-0d55ebb9c714",
   "metadata": {},
   "outputs": [],
   "source": [
    "state_finances.head(3)"
   ]
  },
  {
   "cell_type": "code",
   "execution_count": null,
   "id": "5d87027b-e0de-485e-a85b-13ff854b1908",
   "metadata": {},
   "outputs": [],
   "source": [
    "#drop rows that have NaN for index row 9. This will ensure only cmbined state and local columns are kept and remove sepearted and CV columns\n",
    "state_finances = state_finances.dropna(axis=1, subset=[9])"
   ]
  },
  {
   "cell_type": "code",
   "execution_count": null,
   "id": "6e323691-c6bb-464b-95f4-69c89b68451c",
   "metadata": {},
   "outputs": [],
   "source": [
    "#remove additional unneeded rows under state name\n",
    "state_finances = state_finances.drop(index=range(10, 15))"
   ]
  },
  {
   "cell_type": "code",
   "execution_count": null,
   "id": "7e754e1c-0f82-49b9-99fc-651f671fa21e",
   "metadata": {},
   "outputs": [],
   "source": [
    "#reset index value\n",
    "state_finances = state_finances.reset_index(drop = True)\n",
    "state_finances.head(3)"
   ]
  },
  {
   "cell_type": "code",
   "execution_count": null,
   "id": "e2922dd2-1ae2-4c39-82fa-3974d202ae81",
   "metadata": {},
   "outputs": [],
   "source": [
    "# replacing the column names with the values in the top row\n",
    "state_finances.columns = state_finances.iloc[0]\n",
    "state_finances = state_finances.drop(0)\n",
    "state_finances.head(3)"
   ]
  },
  {
   "cell_type": "code",
   "execution_count": null,
   "id": "f9b443ee-b25b-4568-96c9-ea96c696754c",
   "metadata": {},
   "outputs": [],
   "source": [
    "state_finances = state_finances.drop(index=range(175, 187))"
   ]
  },
  {
   "cell_type": "code",
   "execution_count": null,
   "id": "4d8e8e02-2507-46a8-b139-bb0fba84424e",
   "metadata": {},
   "outputs": [],
   "source": [
    "#drop rows that have NaN in Description i.e. filler rows in the original dataframe\n",
    "state_finances = state_finances.dropna(subset=['Description'])\n",
    "state_finances.head(3)"
   ]
  },
  {
   "cell_type": "code",
   "execution_count": null,
   "id": "ae7c3f3d-ed3a-4fbe-bb6f-f520e7d55fc1",
   "metadata": {},
   "outputs": [],
   "source": [
    "#transpose the database\n",
    "state_finances = state_finances.T"
   ]
  },
  {
   "cell_type": "code",
   "execution_count": null,
   "id": "4b0f575b-d043-4a93-9630-2cbb64a931a1",
   "metadata": {},
   "outputs": [],
   "source": [
    "#reset index again\n",
    "state_finances = state_finances.reset_index(drop = False)"
   ]
  },
  {
   "cell_type": "code",
   "execution_count": null,
   "id": "a81488e4-5bf5-4327-bfd2-4f0a2aa0d392",
   "metadata": {},
   "outputs": [],
   "source": [
    "#replace column names with value from first row\n",
    "state_finances.columns = state_finances.iloc[0]\n",
    "state_finances = state_finances.drop(0)\n",
    "state_finances.head(3)\n",
    "state_finances.shape"
   ]
  },
  {
   "cell_type": "code",
   "execution_count": null,
   "id": "24be50d4-25f1-4331-8747-0f62573919f7",
   "metadata": {},
   "outputs": [],
   "source": [
    "#strip column names of \"1\"\n",
    "state_finances.columns = state_finances.columns.str.replace(\"1\", \"\")\n",
    "state_finances.columns = state_finances.columns.str.replace(\"2\", \"\")"
   ]
  },
  {
   "cell_type": "code",
   "execution_count": null,
   "id": "690ea7b2-4bfd-45c3-98c6-944335b46442",
   "metadata": {},
   "outputs": [],
   "source": [
    "#strip away the white spaces in column names\n",
    "state_finances.columns = state_finances.columns.str.strip()"
   ]
  },
  {
   "cell_type": "code",
   "execution_count": null,
   "id": "25b836a5-c936-4422-a3b3-e7deab826ad5",
   "metadata": {},
   "outputs": [],
   "source": [
    "state_finances = state_finances.rename(columns = {'Description': 'Location', 'Revenue': 'Total Revenue', 'Expenditure':'Total Expenditure'})"
   ]
  },
  {
   "cell_type": "code",
   "execution_count": null,
   "id": "055eb5e8-b1a9-4c72-9560-6faad7277ef2",
   "metadata": {},
   "outputs": [],
   "source": [
    "new_column_names = {\"From Federal Government\": \"From Federal Government revenue\",\"From State government\": \"From State government revenue\",\n",
    "                    \"From local governments\": \"From local governments revenue\",\"General revenue from own sources\": \"General revenue from own sources\",\n",
    "                    \"Taxes\": \"Taxe revenue\",\"Property\": \"Property revenue\",\"Sales and gross receipts\": \"Sales and gross receipts revenue\",\"General sales\": \"General sales revenue\",\n",
    "                    \"Selective sales\": \"Selective sales revenue\",\"Motor fuel\": \"Motor fuel revenue\",\"Alcoholic beverage\": \"Alcoholic beverage revenue\",\n",
    "                    \"Tobacco products\": \"Tobacco products revenue\",\"Public utilities\": \"Public utilities revenue\",\"Other selective sales\": \"Other selective sales revenue\",\n",
    "                    \"Individual income\": \"Individual income revenue\",\"Corporate income\": \"Corporate income revenue\",\"Motor vehicle license\": \"Motor vehicle license revenue\",\n",
    "                    \"Other taxes\": \"Other taxes revenue\",\"Charges and miscellaneous general revenue\": \"Charges and miscellaneous general revenue\",\"Current charges\": \"Current charges revenue\",\n",
    "                    \"Education\": \"Education revenue\",\"Institutions of higher education\": \"Institutions of higher education revenue\",\"School lunch sales (gross)\": \"School lunch sales (gross) revenue\",\n",
    "                    \"Hospitals\": \"Hospitals revenue\",\"Highways\": \"Highways revenue\",\"Air transportation (airports)\": \"Air transportation (airports) revenue\",\n",
    "                    \"Parking facilities\": \"Parking facilities revenue\",\"Sea and inland port facilities\": \"Sea and inland port facilities revenue\",\"Natural resources\": \"Natural resources revenue\",\n",
    "                    \"Parks and recreation\": \"Parks and recreation revenue\",\"Housing and community development\": \"Housing and community development revenue\",\"Sewerage\": \"Sewerage revenue\",\n",
    "                    \"Solid waste management\": \"Solid waste management revenue\",\"Other charges\": \"Other charges revenue\",\"Miscellaneous general revenue\": \"Miscellaneous general revenue\",\n",
    "                    \"Interest earnings\": \"Interest earnings revenue\",\"Special assessments\": \"Special assessments revenue\",\"Sale of property\": \"Sale of property revenue\",\n",
    "                    \"Other general revenue\": \"Other general revenue\",\"Utility revenue\": \"Utility revenue\",\"Water supply\": \"Water supply revenue\",\"Electric power\": \"Electric power revenue\",\n",
    "                    \"Gas supply\": \"Gas supply revenue\",\"Transit\": \"Transit revenue\",\"Liquor store revenue\": \"Liquor store revenue\",\"Insurance trust revenue\": \"Insurance trust revenue\",\n",
    "                    \"Unemployment compensation\": \"Unemployment compensation revenue\",\"Employee retirement\": \"Employee retirement revenue\",\"Workers' compensation\": \"Workers' compensation revenue\",\n",
    "                    \"Other insurance trust revenue\": \"Other insurance trust revenue\",\"By character and object:\": \"By character and object: expenditure\",\"Current operations\": \"Current operations expenditure\",\n",
    "                    \"Capital outlay\": \"Capital outlay expenditure\",\"Construction\": \"Construction expenditure\",\"Other capital outlay\": \"Other capital outlay expenditure\",\n",
    "                    \"Assistance and subsidies\": \"Assistance and subsidies expenditure\",\"Interest on debt\": \"Interest on debt expenditure\",\"Insurance benefits and repayments\": \"Insurance benefits and repayments expenditure\",\n",
    "                    \"Exhibit: Salaries and wages\": \"Exhibit: Salaries and wages expenditure\",\"Direct expenditure by function\": \"Direct expenditure by function expenditure\",\n",
    "                    \"Education services:\": \"Education services: expenditure\",\"Education\": \"Education expenditure\",\"Capital outlay\": \"Capital outlay expenditure\",\"Higher education\": \"Higher education expenditure\",\n",
    "                    \"Capital outlay\": \"Capital outlay expenditure\",\"Elementary & secondary\": \"Elementary & secondary expenditure\",\"Capital outlay\": \"Capital outlay expenditure\",\n",
    "                    \"Other education\": \"Other education expenditure\",\"Libraries\": \"Libraries expenditure\",\"Social services and income maintenance:\": \"Social services and income maintenance: expenditure\",\n",
    "                    \"Public welfare\": \"Public welfare expenditure\",\"Cash assistance payments\": \"Cash assistance payments expenditure\",\"Vendor payments\": \"Vendor payments expenditure\",\n",
    "                    \"Other public welfare\": \"Other public welfare expenditure\",\"Hospitals\": \"Hospitals expenditure\",\"Capital outlay\": \"Capital outlay expenditure\",\n",
    "                    \"Health\": \"Health expenditure\",\"Employment security administration\": \"Employment security administration expenditure\",\"Veterans' services\": \"Veterans' services expenditure\",\n",
    "                    \"Transportation:\": \"Transportation: expenditure\",\"Highways\": \"Highways expenditure\",\"Capital outlay\": \"Capital outlay expenditure\",\"Air transportation (airports)\": \"Air transportation (airports) expenditure\",\n",
    "                    \"Parking facilities\": \"Parking facilities expenditure\",\"Sea and inland port facilities\": \"Sea and inland port facilities expenditure\",\"Public safety:\": \"Public safety: expenditure\",\n",
    "                    \"Police protection\": \"Police protection expenditure\",\"Fire protection\": \"Fire protection expenditure\",\"Correction\": \"Correction expenditure\",\"Capital outlay\": \"Capital outlay expenditure\",\n",
    "                    \"Protective inspection and regulation\": \"Protective inspection and regulation expenditure\",\"Environment and housing:\": \"Environment and housing: expenditure\",\n",
    "                    \"Natural resources\": \"Natural resources expenditure\",\"Capital outlay\": \"Capital outlay expenditure\",\"Parks and recreation\": \"Parks and recreation expenditure\",\n",
    "                    \"Capital outlayexpenditure\": \"Capital outlay expenditure\",\"Housing and community developmentexpenditure\": \"Housing and community development expenditure\",\n",
    "                    \"Sewerageexpenditure\": \"Sewerage expenditure\",\"Capital outlayexpenditure\": \"Capital outlay expenditure\",\"Solid waste managementexpenditure\": \"Solid waste management expenditure\",\n",
    "    \"Capital outlayexpenditure\": \"Capital outlay expenditure\",\n",
    "    \"Governmental administration:expenditure\": \"Governmental administration:expenditure\",\n",
    "    \"Financial administrationexpenditure\": \"Financial administration expenditure\",\n",
    "    \"Judicial and legalexpenditure\": \"Judicial and legal expenditure\",\n",
    "    \"General public buildingsexpenditure\": \"General public buildings expenditure\",\n",
    "    \"Other governmental administrationexpenditure\": \"Other governmental administration expenditure\",\n",
    "    \"Interest on general debt expenditure\": \"Interest on general debt expenditure\",\n",
    "    \"General expenditure, n.e.c.:\": \"General expenditure, n.e.c.: expenditure\",\n",
    "    \"Miscellaneous commercial activities expenditure\": \"Miscellaneous commercial activities expenditure\",\n",
    "    \"Other and unallocable expenditure\": \"Other and unallocable expenditure\",\n",
    "    \"Utility expenditure expenditure\": \"Utility expenditure expenditure\",\n",
    "    \"Capital outlay expenditure\": \"Capital outlay expenditure\",\n",
    "    \"Water supply expenditure\": \"Water supply expenditure\",\n",
    "    \"Electric power expenditure\": \"Electric power expenditure\",\n",
    "    \"Gas supply expenditure\": \"Gas supply expenditure\",\n",
    "    \"Transit expenditure\": \"Transit expenditure\",\n",
    "    \"Liquor store expenditure\": \"Liquor store expenditure\",\n",
    "    \"Insurance trust expenditure\": \"Insurance trust expenditure\",\n",
    "    \"Unemployment compensation\": \"Unemployment compensation expenditure\",\n",
    "    \"Employee retirement expenditure\": \"Employee retirement expenditure\",\n",
    "    \"Workers' compensation expenditure\": \"Workers' compensation expenditure\",\n",
    "    \"Other insurance trust expenditure\": \"Other insurance trust expenditure\",\n",
    "    \"Debt outstanding\": \"Debt outstanding\",\n",
    "    \"Short-term debt\": \"Short-term debt\",\n",
    "    \"Long-term debt\": \"Long-term debt\",\n",
    "    \"Public debt for private purposes\": \"Public debt for private purposes\",\n",
    "    \"Long-term debt issued\": \"Long-term debt issued\",\n",
    "    \"Long-term debt retired\": \"Long-term debt retired\",\n",
    "    \"Cash and security holdings\": \"Cash and security holdings\",\n",
    "    \"Insurance trust funds\": \"Insurance trust funds\",\n",
    "    \"Unemployment compensation\": \"Unemployment compensation\",\n",
    "    \"Employee retirement\": \"Employee retirement\",\n",
    "    \"Workers' compensation\": \"Workers' compensation\",\n",
    "    \"Miscellaneous\": \"Miscellaneous\",\n",
    "    \"Other than insurance trust funds\": \"Other than insurance trust funds\",\n",
    "    \"By purpose:\": \"By purpose:\",\n",
    "    \"Offsets to debt\": \"Offsets to debt\",\n",
    "    \"Bond funds\": \"Bond funds\",\n",
    "    \"Other\": \"Other\"\n",
    "}\n",
    "\n",
    "# Rename columns using the provided dictionary\n",
    "state_finances.rename(columns=new_column_names, inplace=True)"
   ]
  },
  {
   "cell_type": "code",
   "execution_count": null,
   "id": "de1a9c7e-b590-492f-840e-a7da1ac08722",
   "metadata": {},
   "outputs": [],
   "source": [
    "state_finances.head(3)"
   ]
  },
  {
   "cell_type": "code",
   "execution_count": null,
   "id": "906f16bf-6e15-4d8a-8242-9fce678ec463",
   "metadata": {},
   "outputs": [],
   "source": []
  }
 ],
 "metadata": {
  "kernelspec": {
   "display_name": "Python 3 (ipykernel)",
   "language": "python",
   "name": "python3"
  },
  "language_info": {
   "codemirror_mode": {
    "name": "ipython",
    "version": 3
   },
   "file_extension": ".py",
   "mimetype": "text/x-python",
   "name": "python",
   "nbconvert_exporter": "python",
   "pygments_lexer": "ipython3",
   "version": "3.11.5"
  }
 },
 "nbformat": 4,
 "nbformat_minor": 5
}
